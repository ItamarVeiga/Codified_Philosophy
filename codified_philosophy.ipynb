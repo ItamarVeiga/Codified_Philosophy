{
 "cells": [
  {
   "cell_type": "code",
   "execution_count": null,
   "metadata": {},
   "outputs": [],
   "source": [
    "!pip install spacy\n",
    "# stemmmerization (tirar sufixos e prefixos )\n",
    "# lemmatization: (lemma: radical de uma palavra)\n",
    "# Vamos aproveitar  (porque, em princípio, engrenharia Reversa do processo de pln)\n",
    "# Tokenization (de palavras e frases), \n",
    "# ponderar stopwords (trabalhar lista, definindo quais).\n",
    "# expressões regulares (evitando o caráter preditivo).\n",
    "# corpus (muitos recursos) do nltk\n"
   ]
  },
  {
   "cell_type": "code",
   "execution_count": 1,
   "metadata": {},
   "outputs": [],
   "source": [
    "import spacy"
   ]
  },
  {
   "cell_type": "code",
   "execution_count": 5,
   "metadata": {},
   "outputs": [
    {
     "name": "stdout",
     "output_type": "stream",
     "text": [
      "Requirement already satisfied: pt_core_news_sm==2.3.0 from https://github.com/explosion/spacy-models/releases/download/pt_core_news_sm-2.3.0/pt_core_news_sm-2.3.0.tar.gz#egg=pt_core_news_sm==2.3.0 in c:\\users\\itamar\\anaconda3\\lib\\site-packages\n",
      "Requirement already satisfied: spacy<2.4.0,>=2.3.0 in c:\\users\\itamar\\anaconda3\\lib\\site-packages (from pt_core_news_sm==2.3.0)\n",
      "Requirement already satisfied: plac<1.2.0,>=0.9.6 in c:\\users\\itamar\\anaconda3\\lib\\site-packages (from spacy<2.4.0,>=2.3.0->pt_core_news_sm==2.3.0)\n",
      "Requirement already satisfied: preshed<3.1.0,>=3.0.2 in c:\\users\\itamar\\anaconda3\\lib\\site-packages (from spacy<2.4.0,>=2.3.0->pt_core_news_sm==2.3.0)\n",
      "Requirement already satisfied: numpy>=1.15.0 in c:\\users\\itamar\\anaconda3\\lib\\site-packages (from spacy<2.4.0,>=2.3.0->pt_core_news_sm==2.3.0)\n",
      "Requirement already satisfied: blis<0.5.0,>=0.4.0 in c:\\users\\itamar\\anaconda3\\lib\\site-packages (from spacy<2.4.0,>=2.3.0->pt_core_news_sm==2.3.0)\n",
      "Requirement already satisfied: thinc==7.4.1 in c:\\users\\itamar\\anaconda3\\lib\\site-packages (from spacy<2.4.0,>=2.3.0->pt_core_news_sm==2.3.0)\n",
      "Requirement already satisfied: catalogue<1.1.0,>=0.0.7 in c:\\users\\itamar\\anaconda3\\lib\\site-packages (from spacy<2.4.0,>=2.3.0->pt_core_news_sm==2.3.0)\n",
      "Requirement already satisfied: requests<3.0.0,>=2.13.0 in c:\\users\\itamar\\anaconda3\\lib\\site-packages (from spacy<2.4.0,>=2.3.0->pt_core_news_sm==2.3.0)\n",
      "Requirement already satisfied: tqdm<5.0.0,>=4.38.0 in c:\\users\\itamar\\anaconda3\\lib\\site-packages (from spacy<2.4.0,>=2.3.0->pt_core_news_sm==2.3.0)\n",
      "Requirement already satisfied: murmurhash<1.1.0,>=0.28.0 in c:\\users\\itamar\\anaconda3\\lib\\site-packages (from spacy<2.4.0,>=2.3.0->pt_core_news_sm==2.3.0)\n",
      "Requirement already satisfied: wasabi<1.1.0,>=0.4.0 in c:\\users\\itamar\\anaconda3\\lib\\site-packages (from spacy<2.4.0,>=2.3.0->pt_core_news_sm==2.3.0)\n",
      "Requirement already satisfied: setuptools in c:\\users\\itamar\\anaconda3\\lib\\site-packages (from spacy<2.4.0,>=2.3.0->pt_core_news_sm==2.3.0)\n",
      "Requirement already satisfied: cymem<2.1.0,>=2.0.2 in c:\\users\\itamar\\anaconda3\\lib\\site-packages (from spacy<2.4.0,>=2.3.0->pt_core_news_sm==2.3.0)\n",
      "Requirement already satisfied: srsly<1.1.0,>=1.0.2 in c:\\users\\itamar\\anaconda3\\lib\\site-packages (from spacy<2.4.0,>=2.3.0->pt_core_news_sm==2.3.0)\n",
      "Requirement already satisfied: importlib-metadata>=0.20; python_version < \"3.8\" in c:\\users\\itamar\\anaconda3\\lib\\site-packages (from catalogue<1.1.0,>=0.0.7->spacy<2.4.0,>=2.3.0->pt_core_news_sm==2.3.0)\n",
      "Requirement already satisfied: chardet<3.1.0,>=3.0.2 in c:\\users\\itamar\\anaconda3\\lib\\site-packages (from requests<3.0.0,>=2.13.0->spacy<2.4.0,>=2.3.0->pt_core_news_sm==2.3.0)\n",
      "Requirement already satisfied: idna<2.7,>=2.5 in c:\\users\\itamar\\anaconda3\\lib\\site-packages (from requests<3.0.0,>=2.13.0->spacy<2.4.0,>=2.3.0->pt_core_news_sm==2.3.0)\n",
      "Requirement already satisfied: urllib3<1.23,>=1.21.1 in c:\\users\\itamar\\anaconda3\\lib\\site-packages (from requests<3.0.0,>=2.13.0->spacy<2.4.0,>=2.3.0->pt_core_news_sm==2.3.0)\n",
      "Requirement already satisfied: certifi>=2017.4.17 in c:\\users\\itamar\\anaconda3\\lib\\site-packages (from requests<3.0.0,>=2.13.0->spacy<2.4.0,>=2.3.0->pt_core_news_sm==2.3.0)\n",
      "Requirement already satisfied: zipp>=0.5 in c:\\users\\itamar\\anaconda3\\lib\\site-packages (from importlib-metadata>=0.20; python_version < \"3.8\"->catalogue<1.1.0,>=0.0.7->spacy<2.4.0,>=2.3.0->pt_core_news_sm==2.3.0)\n",
      "[+] Download and installation successful\n",
      "You can now load the model via spacy.load('pt_core_news_sm')\n"
     ]
    },
    {
     "name": "stderr",
     "output_type": "stream",
     "text": [
      "You are using pip version 9.0.1, however version 20.2.4 is available.\n",
      "You should consider upgrading via the 'python -m pip install --upgrade pip' command.\n"
     ]
    }
   ],
   "source": [
    "!python -m spacy download pt_core_news_sm"
   ]
  },
  {
   "cell_type": "code",
   "execution_count": 2,
   "metadata": {},
   "outputs": [
    {
     "name": "stdout",
     "output_type": "stream",
     "text": [
      "Requirement already satisfied: en_core_web_sm==2.3.1 from https://github.com/explosion/spacy-models/releases/download/en_core_web_sm-2.3.1/en_core_web_sm-2.3.1.tar.gz#egg=en_core_web_sm==2.3.1 in c:\\users\\itamar\\anaconda3\\lib\\site-packages\n",
      "Requirement already satisfied: spacy<2.4.0,>=2.3.0 in c:\\users\\itamar\\anaconda3\\lib\\site-packages (from en_core_web_sm==2.3.1)\n",
      "Requirement already satisfied: preshed<3.1.0,>=3.0.2 in c:\\users\\itamar\\anaconda3\\lib\\site-packages (from spacy<2.4.0,>=2.3.0->en_core_web_sm==2.3.1)\n",
      "Requirement already satisfied: blis<0.5.0,>=0.4.0 in c:\\users\\itamar\\anaconda3\\lib\\site-packages (from spacy<2.4.0,>=2.3.0->en_core_web_sm==2.3.1)\n",
      "Requirement already satisfied: thinc==7.4.1 in c:\\users\\itamar\\anaconda3\\lib\\site-packages (from spacy<2.4.0,>=2.3.0->en_core_web_sm==2.3.1)\n",
      "Requirement already satisfied: numpy>=1.15.0 in c:\\users\\itamar\\anaconda3\\lib\\site-packages (from spacy<2.4.0,>=2.3.0->en_core_web_sm==2.3.1)\n",
      "Requirement already satisfied: murmurhash<1.1.0,>=0.28.0 in c:\\users\\itamar\\anaconda3\\lib\\site-packages (from spacy<2.4.0,>=2.3.0->en_core_web_sm==2.3.1)\n",
      "Requirement already satisfied: tqdm<5.0.0,>=4.38.0 in c:\\users\\itamar\\anaconda3\\lib\\site-packages (from spacy<2.4.0,>=2.3.0->en_core_web_sm==2.3.1)\n",
      "Requirement already satisfied: cymem<2.1.0,>=2.0.2 in c:\\users\\itamar\\anaconda3\\lib\\site-packages (from spacy<2.4.0,>=2.3.0->en_core_web_sm==2.3.1)\n",
      "Requirement already satisfied: catalogue<1.1.0,>=0.0.7 in c:\\users\\itamar\\anaconda3\\lib\\site-packages (from spacy<2.4.0,>=2.3.0->en_core_web_sm==2.3.1)\n",
      "Requirement already satisfied: srsly<1.1.0,>=1.0.2 in c:\\users\\itamar\\anaconda3\\lib\\site-packages (from spacy<2.4.0,>=2.3.0->en_core_web_sm==2.3.1)\n",
      "Requirement already satisfied: plac<1.2.0,>=0.9.6 in c:\\users\\itamar\\anaconda3\\lib\\site-packages (from spacy<2.4.0,>=2.3.0->en_core_web_sm==2.3.1)\n",
      "Requirement already satisfied: wasabi<1.1.0,>=0.4.0 in c:\\users\\itamar\\anaconda3\\lib\\site-packages (from spacy<2.4.0,>=2.3.0->en_core_web_sm==2.3.1)\n",
      "Requirement already satisfied: requests<3.0.0,>=2.13.0 in c:\\users\\itamar\\anaconda3\\lib\\site-packages (from spacy<2.4.0,>=2.3.0->en_core_web_sm==2.3.1)\n",
      "Requirement already satisfied: setuptools in c:\\users\\itamar\\anaconda3\\lib\\site-packages (from spacy<2.4.0,>=2.3.0->en_core_web_sm==2.3.1)\n",
      "Requirement already satisfied: importlib-metadata>=0.20; python_version < \"3.8\" in c:\\users\\itamar\\anaconda3\\lib\\site-packages (from catalogue<1.1.0,>=0.0.7->spacy<2.4.0,>=2.3.0->en_core_web_sm==2.3.1)\n",
      "Requirement already satisfied: chardet<3.1.0,>=3.0.2 in c:\\users\\itamar\\anaconda3\\lib\\site-packages (from requests<3.0.0,>=2.13.0->spacy<2.4.0,>=2.3.0->en_core_web_sm==2.3.1)\n",
      "Requirement already satisfied: idna<2.7,>=2.5 in c:\\users\\itamar\\anaconda3\\lib\\site-packages (from requests<3.0.0,>=2.13.0->spacy<2.4.0,>=2.3.0->en_core_web_sm==2.3.1)\n",
      "Requirement already satisfied: urllib3<1.23,>=1.21.1 in c:\\users\\itamar\\anaconda3\\lib\\site-packages (from requests<3.0.0,>=2.13.0->spacy<2.4.0,>=2.3.0->en_core_web_sm==2.3.1)\n",
      "Requirement already satisfied: certifi>=2017.4.17 in c:\\users\\itamar\\anaconda3\\lib\\site-packages (from requests<3.0.0,>=2.13.0->spacy<2.4.0,>=2.3.0->en_core_web_sm==2.3.1)\n",
      "Requirement already satisfied: zipp>=0.5 in c:\\users\\itamar\\anaconda3\\lib\\site-packages (from importlib-metadata>=0.20; python_version < \"3.8\"->catalogue<1.1.0,>=0.0.7->spacy<2.4.0,>=2.3.0->en_core_web_sm==2.3.1)\n",
      "[+] Download and installation successful\n",
      "You can now load the model via spacy.load('en_core_web_sm')\n"
     ]
    },
    {
     "name": "stderr",
     "output_type": "stream",
     "text": [
      "You are using pip version 9.0.1, however version 20.2.4 is available.\n",
      "You should consider upgrading via the 'python -m pip install --upgrade pip' command.\n"
     ]
    }
   ],
   "source": [
    "!python -m spacy download en_core_web_sm"
   ]
  },
  {
   "cell_type": "code",
   "execution_count": 2,
   "metadata": {},
   "outputs": [],
   "source": [
    "nlp = spacy.load('pt_core_news_sm') #Mudando o teste para outra língua: o alemão, deu para \n",
    "# fazer tokenização, portanto esta leitura do pacote em português, para isto, não foi necessária. "
   ]
  },
  {
   "cell_type": "code",
   "execution_count": 7,
   "metadata": {},
   "outputs": [],
   "source": [
    "nle = spacy.load('en_core_web_sm')"
   ]
  },
  {
   "cell_type": "code",
   "execution_count": 3,
   "metadata": {},
   "outputs": [],
   "source": [
    "#texto1 = \"Eu sou um dinossauro da PUCRS, isto é verdade?\"\n",
    "texto1 = \"sbsbsbs dbdbdbd avavaf?\""
   ]
  },
  {
   "cell_type": "code",
   "execution_count": 4,
   "metadata": {},
   "outputs": [
    {
     "data": {
      "text/plain": [
       "'sbsbsbs dbdbdbd avavaf?'"
      ]
     },
     "execution_count": 4,
     "metadata": {},
     "output_type": "execute_result"
    }
   ],
   "source": [
    "texto1"
   ]
  },
  {
   "cell_type": "code",
   "execution_count": 7,
   "metadata": {},
   "outputs": [],
   "source": [
    "tokeni = nlp(texto1)"
   ]
  },
  {
   "cell_type": "code",
   "execution_count": 10,
   "metadata": {},
   "outputs": [
    {
     "name": "stdout",
     "output_type": "stream",
     "text": [
      "['sbsbsbs', 'dbdbdbd', 'avavaf', '?']\n"
     ]
    }
   ],
   "source": [
    "print([token.text for token in tokeni])"
   ]
  },
  {
   "cell_type": "markdown",
   "metadata": {},
   "source": [
    "😜 mudando um pouco o processo..."
   ]
  },
  {
   "cell_type": "code",
   "execution_count": null,
   "metadata": {},
   "outputs": [],
   "source": [
    "## Vamos fazer uso agora do NLTK\n",
    "!pip install nltk"
   ]
  },
  {
   "cell_type": "code",
   "execution_count": 1,
   "metadata": {},
   "outputs": [],
   "source": [
    "import nltk\n",
    "import os\n",
    "from nltk.corpus.reader.plaintext import PlaintextCorpusReader"
   ]
  },
  {
   "cell_type": "code",
   "execution_count": 10,
   "metadata": {},
   "outputs": [],
   "source": [
    "?nltk # help para o nltk"
   ]
  },
  {
   "cell_type": "code",
   "execution_count": 2,
   "metadata": {},
   "outputs": [],
   "source": [
    "# Importando outros pacotes:\n",
    "import re\n",
    "import string\n",
    "import numpy as np\n",
    "import pandas as pd"
   ]
  },
  {
   "cell_type": "code",
   "execution_count": 3,
   "metadata": {},
   "outputs": [],
   "source": [
    "get_files = 'corpi/' "
   ]
  },
  {
   "cell_type": "code",
   "execution_count": 4,
   "metadata": {},
   "outputs": [],
   "source": [
    "new_corpi = PlaintextCorpusReader(get_files,'.*')"
   ]
  },
  {
   "cell_type": "code",
   "execution_count": 5,
   "metadata": {},
   "outputs": [
    {
     "data": {
      "text/plain": [
       "['Readme.txt', 'teste_para_corpus.txt', 'teste_para_corpus2.txt']"
      ]
     },
     "execution_count": 5,
     "metadata": {},
     "output_type": "execute_result"
    }
   ],
   "source": [
    "new_corpi.fileids()"
   ]
  },
  {
   "cell_type": "code",
   "execution_count": 6,
   "metadata": {},
   "outputs": [
    {
     "name": "stdout",
     "output_type": "stream",
     "text": [
      "Assim, quando na Dogmática a fé é chamada o imediato sem qualquer outra determinação obtém-se a vantagem de se convencer todo mundo da necessidade de não ficar parado na fé, sim, pode-se arrancar tal concessão[14] até mesmo do crente ortodoxo, porque ele talvez não tenha descoberto prontamente o equívoco, de que isso não tem sua razão no que vem depois, mas sim naquele πρω τον ψευδος[15]. A perda é inegável, pois a fé perde ao ser assim despojada do que lhe pertence legitimamente: sua pressuposição histórica; a Dogmática perde por vir a iniciar, não onde tem seu início, dentro de um início preliminar.\r\n",
      "\r\n",
      "Em vez de pressupor[16] um início preliminar, ela o ignora e inicia sem mais nem menos[17], como se fosse a Lógica; pois esta sim é que começa justamente pelo que a mais sutil abstração produziu de mais volátil, ou seja: o imediato. (12 do pdf)\r\n",
      "\r\n",
      "2- Suponhamos agora que a filosofia de Hegel tenha conseguido, verdadeiramente, perpassar com seu pensamento a skepsis[21] de Kant\r\n",
      "(embora isso permaneça uma grande questão, apesar de tudo quanto\r\n",
      "Hegel e sua escola, com o lema[22] “o método e a manifestação”, fizeram para esconder o que Schelling reconheceu mais abertamente com o lema “a intuição intelectual e a construção”: que havia um novo ponto de partida) e admitamos, pois, que numa forma superior tenha reconstruído o antecedente, de modo que o pensamento não tenha realidade em virtude de uma pressuposição: será, então, a realidade do pensamento, assim conscientemente obtida, uma reconciliação? \r\n",
      "\r\n",
      "Com tudo isso, afinal, não se fez mais do que levar a Filosofia até o ponto de onde anteriormente se iniciava, naqueles tempos de outrora quando justamente a reconciliação tinha uma enorme importância[23]. (p.13 do pdf)\r\n",
      "\r\n",
      "3- Tem-se uma terminologia filosófica antiga e respeitável: tese, antítese e síntese. Escolha-se uma mais moderna, em que a mediação ocupe o terceiro lugar; será que isso vai representar um progresso assim tão extraordinário?\n"
     ]
    }
   ],
   "source": [
    "print(new_corpi.raw().strip())"
   ]
  },
  {
   "cell_type": "code",
   "execution_count": 7,
   "metadata": {},
   "outputs": [
    {
     "name": "stdout",
     "output_type": "stream",
     "text": [
      "[nltk_data] Error loading punkt: <urlopen error [Errno 11001]\n",
      "[nltk_data]     getaddrinfo failed>\n"
     ]
    },
    {
     "data": {
      "text/plain": [
       "False"
      ]
     },
     "execution_count": 7,
     "metadata": {},
     "output_type": "execute_result"
    }
   ],
   "source": [
    "nltk.download('punkt')"
   ]
  },
  {
   "cell_type": "code",
   "execution_count": 8,
   "metadata": {},
   "outputs": [
    {
     "name": "stdout",
     "output_type": "stream",
     "text": [
      "[[['Assim', ',', 'quando', 'na', 'Dogmática', 'a', 'fé', 'é', 'chamada', 'o', 'imediato', 'sem', 'qualquer', 'outra', 'determinação', 'obtém', '-', 'se', 'a', 'vantagem', 'de', 'se', 'convencer', 'todo', 'mundo', 'da', 'necessidade', 'de', 'não', 'ficar', 'parado', 'na', 'fé', ',', 'sim', ',', 'pode', '-', 'se', 'arrancar', 'tal', 'concessão', '[', '14', ']', 'até', 'mesmo', 'do', 'crente', 'ortodoxo', ',', 'porque', 'ele', 'talvez', 'não', 'tenha', 'descoberto', 'prontamente', 'o', 'equívoco', ',', 'de', 'que', 'isso', 'não', 'tem', 'sua', 'razão', 'no', 'que', 'vem', 'depois', ',', 'mas', 'sim', 'naquele', 'πρω', 'τον', 'ψευδος', '[', '15', '].'], ['A', 'perda', 'é', 'inegável', ',', 'pois', 'a', 'fé', 'perde', 'ao', 'ser', 'assim', 'despojada', 'do', 'que', 'lhe', 'pertence', 'legitimamente', ':', 'sua', 'pressuposição', 'histórica', ';', 'a', 'Dogmática', 'perde', 'por', 'vir', 'a', 'iniciar', ',', 'não', 'onde', 'tem', 'seu', 'início', ',', 'dentro', 'de', 'um', 'início', 'preliminar', '.']], [['Em', 'vez', 'de', 'pressupor', '[', '16', ']', 'um', 'início', 'preliminar', ',', 'ela', 'o', 'ignora', 'e', 'inicia', 'sem', 'mais', 'nem', 'menos', '[', '17', '],', 'como', 'se', 'fosse', 'a', 'Lógica', ';', 'pois', 'esta', 'sim', 'é', 'que', 'começa', 'justamente', 'pelo', 'que', 'a', 'mais', 'sutil', 'abstração', 'produziu', 'de', 'mais', 'volátil', ',', 'ou', 'seja', ':', 'o', 'imediato', '.'], ['(', '12', 'do', 'pdf', ')']], ...]\n"
     ]
    }
   ],
   "source": [
    "print(new_corpi.paras())"
   ]
  },
  {
   "cell_type": "code",
   "execution_count": 9,
   "metadata": {},
   "outputs": [
    {
     "name": "stdout",
     "output_type": "stream",
     "text": [
      "[['Assim', ',', 'quando', 'na', 'Dogmática', 'a', 'fé', 'é', 'chamada', 'o', 'imediato', 'sem', 'qualquer', 'outra', 'determinação', 'obtém', '-', 'se', 'a', 'vantagem', 'de', 'se', 'convencer', 'todo', 'mundo', 'da', 'necessidade', 'de', 'não', 'ficar', 'parado', 'na', 'fé', ',', 'sim', ',', 'pode', '-', 'se', 'arrancar', 'tal', 'concessão', '[', '14', ']', 'até', 'mesmo', 'do', 'crente', 'ortodoxo', ',', 'porque', 'ele', 'talvez', 'não', 'tenha', 'descoberto', 'prontamente', 'o', 'equívoco', ',', 'de', 'que', 'isso', 'não', 'tem', 'sua', 'razão', 'no', 'que', 'vem', 'depois', ',', 'mas', 'sim', 'naquele', 'πρω', 'τον', 'ψευδος', '[', '15', '].'], ['A', 'perda', 'é', 'inegável', ',', 'pois', 'a', 'fé', 'perde', 'ao', 'ser', 'assim', 'despojada', 'do', 'que', 'lhe', 'pertence', 'legitimamente', ':', 'sua', 'pressuposição', 'histórica', ';', 'a', 'Dogmática', 'perde', 'por', 'vir', 'a', 'iniciar', ',', 'não', 'onde', 'tem', 'seu', 'início', ',', 'dentro', 'de', 'um', 'início', 'preliminar', '.'], ...]\n"
     ]
    }
   ],
   "source": [
    "print(new_corpi.sents())"
   ]
  },
  {
   "cell_type": "code",
   "execution_count": 8,
   "metadata": {},
   "outputs": [
    {
     "name": "stdout",
     "output_type": "stream",
     "text": [
      "Faça a sua resposta, a partir de 'sim' ou 'não:\n",
      "Nonesim\n",
      "Agora é noite.\n"
     ]
    }
   ],
   "source": [
    "pergunta = \"A manhã está quente?\"\n",
    "resposta1 = \"sim\"\n",
    "resposta2 = \"não\"\n",
    "resposta_possivel1 =input(print(\"Faça a sua resposta, a partir de 'sim' ou 'não:\"))\n",
    "if pergunta == resposta1:\n",
    "    print(\"Agora é dia.\")\n",
    "else:\n",
    "    print(\"Agora é noite.\")\n",
    "    \n",
    "print(\"Mas vamos complicar esta situação:\")\n",
    "\n",
    "pergunta = \"O Sol é quente?\"\n",
    "\n",
    "pergunta_possivel2 = input(print(\"Faça novamente a sua resposta, a partir de 'sim' ou 'não'.\"))\n",
    "if pergunta == resposta1:\n",
    "    print(\"Verdadeiro.\")\n",
    "else:\n",
    "    print(\"Falso.\")\n",
    "    \n",
    "print(\"O problema é que o resultado verdadeiro ou falso a partir do proprio código precisa de dados \\\n",
    "prévios, por exemplo, usar uma das funções da string que retornam um output verdadeiro ou falso \\\n",
    "booleano conforme o input, considere s como uma string: s.isalnum(), mas antes precisa ser informado\\\n",
    "um valor da string.\")\n",
    "    \n",
    "    \n",
    "    \n",
    "    \n"
   ]
  },
  {
   "cell_type": "code",
   "execution_count": null,
   "metadata": {},
   "outputs": [],
   "source": []
  }
 ],
 "metadata": {
  "kernelspec": {
   "display_name": "Python 3",
   "language": "python",
   "name": "python3"
  },
  "language_info": {
   "codemirror_mode": {
    "name": "ipython",
    "version": 3
   },
   "file_extension": ".py",
   "mimetype": "text/x-python",
   "name": "python",
   "nbconvert_exporter": "python",
   "pygments_lexer": "ipython3",
   "version": "3.6.4"
  }
 },
 "nbformat": 4,
 "nbformat_minor": 2
}
