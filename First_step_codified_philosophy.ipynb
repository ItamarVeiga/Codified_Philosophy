{
 "cells": [
  {
   "cell_type": "markdown",
   "metadata": {},
   "source": [
    "The codified_philosophy_project\n",
    "First step.\n",
    "\n",
    "(1)The first step is to express a simple question (or doubt) and verify possibles answers.  The question, in this initial moment, no will be a philosophicall question, but somethig more weak as an asking.\n"
   ]
  },
  {
   "cell_type": "code",
   "execution_count": 1,
   "metadata": {},
   "outputs": [
    {
     "name": "stdout",
     "output_type": "stream",
     "text": [
      "Is the morning hot?\n"
     ]
    }
   ],
   "source": [
    "# a simple asking:\n",
    "print(\"Is the morning hot?\")\n",
    "\n",
    "# posible answers:\n",
    "no = \"not\"\n",
    "yh = \"yes\"\n",
    "depn = \"it depens\""
   ]
  },
  {
   "cell_type": "code",
   "execution_count": 4,
   "metadata": {},
   "outputs": [
    {
     "name": "stdout",
     "output_type": "stream",
     "text": [
      "Write your answer:\n",
      "\n",
      "Nonenot\n",
      "Cheking another input... ok, the morning is hot.\n"
     ]
    }
   ],
   "source": [
    "# Exploring a simple question in possible answers with predetermined text\n",
    "answer1 = input(print(\"Write your answer:\\n\"))\n",
    "if answer1 == no:\n",
    "    # Before verify another input using fuction1\n",
    "    print(\"Cheking another input... ok, the morning is hot.\")\n",
    "elif answer1 == yh:\n",
    "     # Before verify another input using fuction2\n",
    "    print(\"Cheking another input... ok, the morning is not hot.\")\n",
    "else:\n",
    "    print(\"Depens? What are your conditions?\")\n",
    "    \n"
   ]
  },
  {
   "cell_type": "code",
   "execution_count": null,
   "metadata": {},
   "outputs": [],
   "source": []
  }
 ],
 "metadata": {
  "kernelspec": {
   "display_name": "Python 3",
   "language": "python",
   "name": "python3"
  },
  "language_info": {
   "codemirror_mode": {
    "name": "ipython",
    "version": 3
   },
   "file_extension": ".py",
   "mimetype": "text/x-python",
   "name": "python",
   "nbconvert_exporter": "python",
   "pygments_lexer": "ipython3",
   "version": "3.6.4"
  }
 },
 "nbformat": 4,
 "nbformat_minor": 2
}
