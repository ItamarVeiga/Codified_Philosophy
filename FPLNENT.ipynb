{
 "cells": [
  {
   "cell_type": "code",
   "execution_count": 1,
   "id": "remarkable-resolution",
   "metadata": {},
   "outputs": [
    {
     "name": "stderr",
     "output_type": "stream",
     "text": [
      "[nltk_data] Downloading package machado to\n",
      "[nltk_data]     C:\\Users\\guilh\\AppData\\Roaming\\nltk_data...\n",
      "[nltk_data]   Package machado is already up-to-date!\n"
     ]
    }
   ],
   "source": [
    "import nltk\n",
    "#baixando corpus machado de assis\n",
    "nltk_id = 'machado'\n",
    "nltk.download(nltk_id)\n",
    "\n",
    "#pegando Dom Casmurro\n",
    "dom_casmurro = nltk.corpus.machado.raw('romance/marm08.txt')"
   ]
  },
  {
   "cell_type": "code",
   "execution_count": 2,
   "id": "reverse-pitch",
   "metadata": {},
   "outputs": [],
   "source": [
    "import nltk\n",
    "import re\n",
    "\n",
    "def getStopwords(idioma = 'portuguese'):\n",
    "    nltk.download('stopwords')\n",
    "    return nltk.corpus.stopwords.words(idioma)\n",
    "\n",
    "def stemmatizar(tokens, lancaster: True):\n",
    "    stemmer = nltk.LancasterStemmer() if lancaster  else nltk.PorterStemmer()\n",
    "    return [stemmer.stem(token) for token in tokens]\n",
    "\n",
    "def lemmatizar(tokens):\n",
    "    lemmatizer = nltk.WordNetLemmatizer()\n",
    "    return [lemmatizer.lemmatize(token) for token in tokens]\n",
    "\n",
    "def separarPorTokens(texto):\n",
    "    nltk.download('punkt')\n",
    "    from nltk.tokenize import word_tokenize\n",
    "    return word_tokenize(texto)\n",
    "\n",
    "def separarPorFrases(texto):\n",
    "    from nltk.tokenize import sent_tokenize\n",
    "    return sent_tokenize(texto)\n",
    "\n",
    "def pre_processar(texto):\n",
    "    from unidecode import unidecode\n",
    "    texto_letras_minusculas = re.findall(r'\\b[A-zÀ-úü]+\\b', texto.lower())\n",
    "\n",
    "    stopwords = getStopwords()\n",
    "\n",
    "    texto_sem_stopwords = [unidecode(w) for w in texto_letras_minusculas if w not in stopwords]\n",
    "\n",
    "    texto_limpo = \" \".join(texto_sem_stopwords)\n",
    "    \n",
    "    return texto_limpo"
   ]
  },
  {
   "cell_type": "code",
   "execution_count": 3,
   "id": "absolute-palace",
   "metadata": {},
   "outputs": [
    {
     "name": "stderr",
     "output_type": "stream",
     "text": [
      "[nltk_data] Downloading package stopwords to\n",
      "[nltk_data]     C:\\Users\\guilh\\AppData\\Roaming\\nltk_data...\n",
      "[nltk_data]   Package stopwords is already up-to-date!\n",
      "[nltk_data] Downloading package punkt to\n",
      "[nltk_data]     C:\\Users\\guilh\\AppData\\Roaming\\nltk_data...\n",
      "[nltk_data]   Package punkt is already up-to-date!\n"
     ]
    }
   ],
   "source": [
    "from nltk.probability import FreqDist\n",
    "t = pre_processar(dom_casmurro)\n",
    "tokens = separarPorTokens(t);\n",
    "fd = FreqDist(tokens)\n",
    "fr = separarPorFrases(dom_casmurro)"
   ]
  },
  {
   "cell_type": "code",
   "execution_count": 4,
   "id": "satisfactory-opportunity",
   "metadata": {},
   "outputs": [
    {
     "name": "stderr",
     "output_type": "stream",
     "text": [
      "[nltk_data] Downloading package stopwords to\n",
      "[nltk_data]     C:\\Users\\guilh\\AppData\\Roaming\\nltk_data...\n",
      "[nltk_data]   Package stopwords is already up-to-date!\n",
      "[nltk_data] Downloading package punkt to\n",
      "[nltk_data]     C:\\Users\\guilh\\AppData\\Roaming\\nltk_data...\n",
      "[nltk_data]   Package punkt is already up-to-date!\n",
      "[nltk_data] Downloading package stopwords to\n",
      "[nltk_data]     C:\\Users\\guilh\\AppData\\Roaming\\nltk_data...\n",
      "[nltk_data]   Package stopwords is already up-to-date!\n",
      "[nltk_data] Downloading package stopwords to\n",
      "[nltk_data]     C:\\Users\\guilh\\AppData\\Roaming\\nltk_data...\n",
      "[nltk_data]   Package stopwords is already up-to-date!\n"
     ]
    }
   ],
   "source": [
    "from nltk.probability import FreqDist\n",
    "t = pre_processar(dom_casmurro)\n",
    "tokens = separarPorTokens(t);\n",
    "fd = FreqDist(tokens)\n",
    "fr = separarPorFrases(dom_casmurro)\n",
    "frase1 = pre_processar(fr[100])\n",
    "frase2 = pre_processar(fr[101])\n",
    "totalTokens = sum(fd.values())"
   ]
  },
  {
   "cell_type": "code",
   "execution_count": 8,
   "id": "flying-stanford",
   "metadata": {},
   "outputs": [
    {
     "name": "stderr",
     "output_type": "stream",
     "text": [
      "[nltk_data] Downloading package punkt to\n",
      "[nltk_data]     C:\\Users\\guilh\\AppData\\Roaming\\nltk_data...\n",
      "[nltk_data]   Package punkt is already up-to-date!\n"
     ]
    }
   ],
   "source": [
    "from math import log\n",
    "frase2 = \"abacate cachaca\"\n",
    "tokens = separarPorTokens(frase2)\n",
    "fd = FreqDist(tokens)\n",
    "total_palavras = sum(fd.values())"
   ]
  },
  {
   "cell_type": "code",
   "execution_count": 14,
   "id": "painful-violence",
   "metadata": {},
   "outputs": [],
   "source": [
    "#l = len(tokens)\n",
    "l = 2\n",
    "entropia = sum([((i/total_palavras)*log((1/(i/total_palavras)), l)) for i in fd.values()])"
   ]
  },
  {
   "cell_type": "code",
   "execution_count": 15,
   "id": "scheduled-communications",
   "metadata": {},
   "outputs": [
    {
     "data": {
      "text/plain": [
       "1.0"
      ]
     },
     "execution_count": 15,
     "metadata": {},
     "output_type": "execute_result"
    }
   ],
   "source": [
    "entropia"
   ]
  },
  {
   "cell_type": "code",
   "execution_count": 16,
   "id": "median-wisdom",
   "metadata": {},
   "outputs": [
    {
     "data": {
      "text/plain": [
       "0.5"
      ]
     },
     "execution_count": 16,
     "metadata": {},
     "output_type": "execute_result"
    }
   ],
   "source": [
    "0.5*log((1/0.5), 2)"
   ]
  }
 ],
 "metadata": {
  "kernelspec": {
   "display_name": "Python 3",
   "language": "python",
   "name": "python3"
  },
  "language_info": {
   "codemirror_mode": {
    "name": "ipython",
    "version": 3
   },
   "file_extension": ".py",
   "mimetype": "text/x-python",
   "name": "python",
   "nbconvert_exporter": "python",
   "pygments_lexer": "ipython3",
   "version": "3.9.1"
  }
 },
 "nbformat": 4,
 "nbformat_minor": 5
}
